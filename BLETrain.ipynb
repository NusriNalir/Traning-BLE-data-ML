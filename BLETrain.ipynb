{
 "cells": [
  {
   "cell_type": "code",
   "execution_count": 3,
   "metadata": {},
   "outputs": [],
   "source": [
    "# 1. Importing libraries\n",
    "import pandas as pd  \n",
    "import numpy as np\n",
    "import json\n",
    "import os\n",
    "import ast\n",
    "import csv\n",
    "from sklearn.svm import SVC\n",
    "from sklearn.model_selection import train_test_split  \n",
    "from sklearn.metrics import classification_report, confusion_matrix,accuracy_score "
   ]
  },
  {
   "cell_type": "code",
   "execution_count": 2,
   "metadata": {},
   "outputs": [],
   "source": [
    "# 2. Importing the dataset\n",
    "#Download the dataset from database as a CSV file and store in the local directory. \n",
    "#To read data from CSV file, the simplest way is to use read_csv method of the pandas library. \n",
    "wifiData = pd.read_csv(\"BLE_data.csv\")"
   ]
  },
  {
   "cell_type": "code",
   "execution_count": 3,
   "metadata": {},
   "outputs": [
    {
     "name": "stdout",
     "output_type": "stream",
     "text": [
      "Dimensions of the data:\n",
      "(9791, 16)\n",
      "\n",
      "First few records:\n",
      "   f0:ec:af:cf:6c:e1  c9:a6:4d:9b:c0:8c  c2:b6:6e:70:fa:f7  d9:5f:f5:4f:10:89  \\\n",
      "0             -200.0             -200.0             -200.0             -200.0   \n",
      "1             -200.0             -200.0             -200.0             -200.0   \n",
      "2              -74.0             -200.0             -200.0             -200.0   \n",
      "3             -200.0             -200.0             -200.0             -200.0   \n",
      "4             -200.0             -200.0             -200.0             -200.0   \n",
      "\n",
      "   c4:52:32:5c:31:e7  e9:3c:4a:34:13:fb  ed:61:e4:e8:22:30  ea:01:26:75:a4:c3  \\\n",
      "0             -200.0             -200.0             -200.0              -78.0   \n",
      "1              -94.0             -200.0             -200.0             -200.0   \n",
      "2             -200.0             -200.0             -200.0             -200.0   \n",
      "3             -200.0             -200.0             -200.0              -86.0   \n",
      "4              -90.0             -200.0             -200.0             -200.0   \n",
      "\n",
      "   d0:4e:10:2e:cb:84  e4:e0:0a:ae:fd:e2  fa:35:76:56:6f:e3  d5:b7:dc:69:ca:ae  \\\n",
      "0             -200.0             -200.0             -200.0             -200.0   \n",
      "1              -75.0             -200.0             -200.0             -200.0   \n",
      "2             -200.0             -200.0             -200.0             -200.0   \n",
      "3             -200.0             -200.0             -200.0             -200.0   \n",
      "4             -200.0             -200.0              -90.0             -200.0   \n",
      "\n",
      "   ca:81:7a:d7:55:49  e7:2b:ea:2f:95:c5  d4:32:fc:b5:f0:b5    id  \n",
      "0             -200.0             -200.0             -200.0  21.0  \n",
      "1             -200.0             -200.0             -200.0   9.0  \n",
      "2             -200.0             -200.0             -200.0   1.0  \n",
      "3             -200.0             -200.0             -200.0  20.0  \n",
      "4             -200.0             -200.0             -200.0   3.0  \n"
     ]
    }
   ],
   "source": [
    "# 3. Exploratory Data Analysis\n",
    "#check the dimensions of the data and see first few records\n",
    "print(\"Dimensions of the data:\")\n",
    "print(wifiData.shape)\n",
    "print(\"\\nFirst few records:\")\n",
    "print(wifiData.head())"
   ]
  },
  {
   "cell_type": "code",
   "execution_count": 13,
   "metadata": {},
   "outputs": [],
   "source": [
    "# 4. Data Preprocessing\n",
    "# To divide the data into attributes and labels\n",
    "X = wifiData.drop('id', axis=1)  #contains attributes\n",
    "y = wifiData['id'] # contains coresponding labels\n",
    "\n",
    "#divide data into training and test sets \n",
    "X_train, X_test, y_train, y_test = train_test_split(X, y, test_size = 0.3) "
   ]
  },
  {
   "cell_type": "code",
   "execution_count": 14,
   "metadata": {},
   "outputs": [
    {
     "data": {
      "text/plain": [
       "SVC(C=1.0, cache_size=200, class_weight=None, coef0=0.0,\n",
       "  decision_function_shape='ovr', degree=3, gamma='auto_deprecated',\n",
       "  kernel='linear', max_iter=-1, probability=False, random_state=None,\n",
       "  shrinking=True, tol=0.001, verbose=False)"
      ]
     },
     "execution_count": 14,
     "metadata": {},
     "output_type": "execute_result"
    }
   ],
   "source": [
    "# 5. Training the Algorithm \n",
    "svclassifier = SVC(kernel='linear')  \n",
    "svclassifier.fit(X_train, y_train) # train the algorithm on the training data"
   ]
  },
  {
   "cell_type": "code",
   "execution_count": null,
   "metadata": {},
   "outputs": [],
   "source": []
  },
  {
   "cell_type": "code",
   "execution_count": 15,
   "metadata": {},
   "outputs": [],
   "source": [
    "# 6. Making Predictions\n",
    "#X_test\n",
    "y_pred = svclassifier.predict(X_test)"
   ]
  },
  {
   "cell_type": "code",
   "execution_count": 16,
   "metadata": {},
   "outputs": [
    {
     "data": {
      "text/plain": [
       "array([20., 12., 18., ..., 21.,  7.,  2.])"
      ]
     },
     "execution_count": 16,
     "metadata": {},
     "output_type": "execute_result"
    }
   ],
   "source": [
    "y_pred"
   ]
  },
  {
   "cell_type": "code",
   "execution_count": 17,
   "metadata": {},
   "outputs": [
    {
     "name": "stdout",
     "output_type": "stream",
     "text": [
      "\n",
      "Confusion Matrix:\n",
      "[[101   0   1   2   0   0   0   0   0   0   0   0   0   0   6   0   0   0\n",
      "    0   0   0   0   0]\n",
      " [  3 184   4   0   0   2   0   0   0   0   0   0   0   0   0   0   0   0\n",
      "    0   0   1   0   0]\n",
      " [  0  61  89   7   0   0   1   0   0   0   0   0   0   0   2   0   0   0\n",
      "    0   0  20   0   0]\n",
      " [  0   0   9 105   0   0   0   0   0   0   0   0   0   0  14   0   0   0\n",
      "    0   0  33   0   0]\n",
      " [ 22   0   0   0  17   0   0   0   0   0   0   0   0   0   8   0   1   0\n",
      "    0  51  32   0   0]\n",
      " [  1   9   2   0   0  60   0   0   0   0   0  10   0   1   0   0   0   6\n",
      "    4   0   1   0   0]\n",
      " [  0   0   1   0   0   0 157   0   0   0   0   0   0   0   0   0   0   1\n",
      "    0   5   1   0   0]\n",
      " [  0   0   0   0   0   0   0  75   0   0   0   0   0   0   0   0   0   0\n",
      "    0   0   0   0   0]\n",
      " [  0   0   0   0   0   0   0   0  96   0   0   0   0   0   0   1   0   0\n",
      "    2   0   0   0   0]\n",
      " [  0   0   0   0   0   1   0   0   0  45   9   0   7   0   0   0   1   1\n",
      "    3   0   2   0   0]\n",
      " [  0   0   0   0   0   0   0   0   0   0  86   0   0   0   0   0   0   0\n",
      "    0   0   8   5   0]\n",
      " [  0   0   0   0   0   0   0   0   0   0   0  44   0   0   0   0   0  19\n",
      "    0   0   0   0   0]\n",
      " [  2   0   1   2   0   0   0   0   0   0   0   0  83   0  14   0   0   0\n",
      "    0   0   6   0   0]\n",
      " [  0   0   0   0   0   0   0   0   0   0   0   0   0  55   0   0   0  16\n",
      "    8   0  13   4   0]\n",
      " [ 12   0   0   4   0   0   0   0   0   0   0   0   3   0  56   0   0   0\n",
      "    0   0   0   0   0]\n",
      " [  0   0   0   0   0   0   0   0   0   0   0   0   0   0   0 156   0   0\n",
      "    0   0   0   0   0]\n",
      " [  4   0   0   0   8   0   0   2   0   0   0   0   0   0   1   0  15   0\n",
      "    0   0   0   0   0]\n",
      " [  0   0   0   0   0   6   1   0   0   7   2   8   2   0   0   0   0 161\n",
      "    2   0   4   0   0]\n",
      " [  0   0   0   0   0   4   0   0   2   0   0   0   2   7   0   0   0   6\n",
      "  156   0   4   0   8]\n",
      " [  4   0   0   0   0   0   0   0   0   0   0   0   0   0   0   0   0   0\n",
      "    0 182  18   0   0]\n",
      " [  2   0   0   0   1  17   0   0   0   2   2  14   5   0   0   0   0  15\n",
      "    1  77  46   0   0]\n",
      " [  0   0   0   0   0   0   0   0   0   0   1   0   0  40   0   0   0   0\n",
      "    0   0   8  30   1]\n",
      " [  0   0   0   0   0   0   0   0   2   0   1   0   0   0   0   0   0   0\n",
      "   29   0   6   0 147]]\n",
      "\n",
      "Classification Report:\n",
      "              precision    recall  f1-score   support\n",
      "\n",
      "         1.0       0.67      0.92      0.77       110\n",
      "         2.0       0.72      0.95      0.82       194\n",
      "         3.0       0.83      0.49      0.62       180\n",
      "         4.0       0.88      0.65      0.75       161\n",
      "         5.0       0.65      0.13      0.22       131\n",
      "         6.0       0.67      0.64      0.65        94\n",
      "         7.0       0.99      0.95      0.97       165\n",
      "         8.0       0.97      1.00      0.99        75\n",
      "         9.0       0.96      0.97      0.96        99\n",
      "        10.0       0.83      0.65      0.73        69\n",
      "        11.0       0.85      0.87      0.86        99\n",
      "        12.0       0.58      0.70      0.63        63\n",
      "        13.0       0.81      0.77      0.79       108\n",
      "        14.0       0.53      0.57      0.55        96\n",
      "        15.0       0.55      0.75      0.64        75\n",
      "        16.0       0.99      1.00      1.00       156\n",
      "        17.0       0.88      0.50      0.64        30\n",
      "        18.0       0.72      0.83      0.77       193\n",
      "        19.0       0.76      0.83      0.79       189\n",
      "        20.0       0.58      0.89      0.70       204\n",
      "        21.0       0.23      0.25      0.24       182\n",
      "        22.0       0.77      0.38      0.50        80\n",
      "        23.0       0.94      0.79      0.86       185\n",
      "\n",
      "   micro avg       0.73      0.73      0.73      2938\n",
      "   macro avg       0.76      0.72      0.72      2938\n",
      "weighted avg       0.75      0.73      0.72      2938\n",
      "\n"
     ]
    }
   ],
   "source": [
    "# 7. Evaluating the Algorithm\n",
    "#Confusion matrix, precision, recall, and F1 measures are the most commonly used metrics for classification tasks.\n",
    "print(\"\\nConfusion Matrix:\")\n",
    "print(confusion_matrix(y_test,y_pred))\n",
    "print(\"\\nClassification Report:\")\n",
    "print(classification_report(y_test,y_pred)) "
   ]
  },
  {
   "cell_type": "code",
   "execution_count": 18,
   "metadata": {},
   "outputs": [
    {
     "name": "stdout",
     "output_type": "stream",
     "text": [
      "0.730428863172226\n"
     ]
    }
   ],
   "source": [
    "print(accuracy_score(y_test,y_pred))"
   ]
  },
  {
   "cell_type": "code",
   "execution_count": 23,
   "metadata": {},
   "outputs": [
    {
     "name": "stdout",
     "output_type": "stream",
     "text": [
      "predicted label for data 0 :  10\n",
      "predicted label for data 1 :  15\n",
      "predicted label for data 2 :  6\n",
      "predicted label for data 3 :  14\n",
      "predicted label for data 4 :  7\n",
      "predicted label for data 5 :  6\n",
      "predicted label for data 6 :  3\n",
      "predicted label for data 7 :  11\n",
      "predicted label for data 8 :  5\n",
      "predicted label for data 9 :  7\n",
      "predicted label for data 10 :  21\n",
      "predicted label for data 11 :  1\n",
      "predicted label for data 12 :  6\n",
      "predicted label for data 13 :  19\n",
      "predicted label for data 14 :  2\n",
      "predicted label for data 15 :  7\n",
      "predicted label for data 16 :  11\n",
      "predicted label for data 17 :  6\n",
      "predicted label for data 18 :  7\n",
      "predicted label for data 19 :  1\n",
      "predicted label for data 20 :  21\n",
      "predicted label for data 21 :  7\n",
      "predicted label for data 22 :  7\n",
      "predicted label for data 23 :  9\n",
      "predicted label for data 24 :  15\n",
      "predicted label for data 25 :  6\n",
      "predicted label for data 26 :  19\n",
      "predicted label for data 27 :  21\n",
      "predicted label for data 28 :  21\n",
      "predicted label for data 29 :  22\n",
      "predicted label for data 30 :  7\n",
      "predicted label for data 31 :  2\n",
      "predicted label for data 32 :  20\n",
      "predicted label for data 33 :  9\n",
      "predicted label for data 34 :  10\n",
      "predicted label for data 35 :  3\n",
      "predicted label for data 36 :  4\n",
      "predicted label for data 37 :  1\n",
      "predicted label for data 38 :  1\n",
      "predicted label for data 39 :  20\n",
      "predicted label for data 40 :  9\n",
      "predicted label for data 41 :  7\n",
      "predicted label for data 42 :  11\n",
      "predicted label for data 43 :  1\n",
      "predicted label for data 44 :  21\n",
      "predicted label for data 45 :  11\n",
      "predicted label for data 46 :  20\n",
      "predicted label for data 47 :  4\n",
      "predicted label for data 48 :  20\n",
      "predicted label for data 49 :  9\n"
     ]
    }
   ],
   "source": [
    "#predict the hidden node\n",
    "\n",
    "#z= np.array([-50,-89.0,-86.0,-75,-95,-88.0,-75.0,-92.0,-20])\n",
    "#data_to_predict = z.reshape(1, -1)\n",
    "#predicted_label = svclassifier.predict(data_to_predict)\n",
    "#print('Predicted label is %d ' %predicted_label)\n",
    "\n",
    "def predictlabels():\n",
    "    unknownData=pd.read_csv(\"unknownData.csv\")\n",
    "\n",
    "    predicted_labels = svclassifier.predict(unknownData)\n",
    "\n",
    "    outputFile = 'PredictedLabels.csv'\n",
    "\n",
    "    for i in range(len(predicted_labels)):\n",
    "        print(\"predicted label for data\",i,\": \",int(predicted_labels[i]))\n",
    "    \n",
    "predictlabels()"
   ]
  },
  {
   "cell_type": "code",
   "execution_count": null,
   "metadata": {},
   "outputs": [],
   "source": []
  },
  {
   "cell_type": "code",
   "execution_count": 4,
   "metadata": {},
   "outputs": [
    {
     "data": {
      "text/plain": [
       "'{\"is_claimed\": \"True\", \"rating\": 3.5}'"
      ]
     },
     "execution_count": 4,
     "metadata": {},
     "output_type": "execute_result"
    }
   ],
   "source": [
    "r = {'is_claimed': 'True', 'rating': 3.5}\n",
    "json = json.dumps(r)\n",
    "json"
   ]
  },
  {
   "cell_type": "code",
   "execution_count": null,
   "metadata": {},
   "outputs": [],
   "source": []
  }
 ],
 "metadata": {
  "kernelspec": {
   "display_name": "Python 3",
   "language": "python",
   "name": "python3"
  },
  "language_info": {
   "codemirror_mode": {
    "name": "ipython",
    "version": 3
   },
   "file_extension": ".py",
   "mimetype": "text/x-python",
   "name": "python",
   "nbconvert_exporter": "python",
   "pygments_lexer": "ipython3",
   "version": "3.6.8"
  }
 },
 "nbformat": 4,
 "nbformat_minor": 2
}
